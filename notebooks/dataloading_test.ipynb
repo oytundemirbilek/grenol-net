{
 "cells": [
  {
   "cell_type": "code",
   "execution_count": null,
   "metadata": {},
   "outputs": [],
   "source": [
    "import os\n",
    "import sys\n",
    "\n",
    "sys.path.append(os.path.dirname(os.getcwd()))"
   ]
  },
  {
   "cell_type": "code",
   "execution_count": null,
   "metadata": {},
   "outputs": [],
   "source": [
    "from avicortex.datasets import OpenNeuroCannabisUsersDataset\n",
    "from torch_geometric.loader import DataLoader"
   ]
  },
  {
   "cell_type": "code",
   "execution_count": null,
   "metadata": {},
   "outputs": [],
   "source": [
    "dataset = OpenNeuroCannabisUsersDataset(\n",
    "    \"right\",\n",
    "    freesurfer_out_path=\"../datasets/openneuro_baseline_dktatlas.csv\",\n",
    "    mode=\"train\",\n",
    "    src_view_idx=0,\n",
    "    tgt_view_idx=2,\n",
    ")\n",
    "dataloader = DataLoader(dataset, batch_size=5)\n",
    "\n",
    "g_source, g_target = next(iter(dataloader))\n",
    "print(g_source)\n",
    "print(g_target)\n",
    "g_source = g_source.to_data_list()[0]\n",
    "g_target = g_target.to_data_list()[0]\n",
    "print(g_source)\n",
    "print(g_target)\n",
    "# plot_graph_adjacency([g_source, g_target], [\"source\", \"target\"])"
   ]
  }
 ],
 "metadata": {
  "kernelspec": {
   "display_name": ".venv",
   "language": "python",
   "name": "python3"
  },
  "language_info": {
   "codemirror_mode": {
    "name": "ipython",
    "version": 3
   },
   "file_extension": ".py",
   "mimetype": "text/x-python",
   "name": "python",
   "nbconvert_exporter": "python",
   "pygments_lexer": "ipython3",
   "version": "3.10.6"
  }
 },
 "nbformat": 4,
 "nbformat_minor": 2
}
