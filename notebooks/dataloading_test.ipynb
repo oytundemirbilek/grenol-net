{
 "cells": [
  {
   "cell_type": "code",
   "execution_count": null,
   "metadata": {},
   "outputs": [],
   "source": [
    "import os\n",
    "import sys\n",
    "\n",
    "sys.path.append(os.path.dirname(os.getcwd()))"
   ]
  },
  {
   "cell_type": "code",
   "execution_count": 5,
   "metadata": {},
   "outputs": [],
   "source": [
    "from avicortex.datasets import CandiShareSchizophreniaDataset\n",
    "from torch_geometric.loader import DataLoader"
   ]
  },
  {
   "cell_type": "code",
   "execution_count": 6,
   "metadata": {},
   "outputs": [
    {
     "name": "stdout",
     "output_type": "stream",
     "text": [
      "Hem:rh, Edges found: (34, 34, 94, 5)\n",
      "Hem:rh, Nodes found: (34, 94, 5)\n",
      "DataBatch(x=[5, 34, 1], edge_index=[2, 5780], edge_attr=[5, 1156, 1], y=[5, 1], con_mat=[5, 34, 34, 1], batch=[5], ptr=[6])\n",
      "DataBatch(x=[5, 34, 1], edge_index=[2, 5780], edge_attr=[5, 1156, 1], y=[5, 1], con_mat=[5, 34, 34, 1], batch=[5], ptr=[6])\n",
      "Data(x=[1, 34, 1], edge_index=[2, 1156], edge_attr=[1, 1156, 1], y=[1, 1], con_mat=[1, 34, 34, 1])\n",
      "Data(x=[1, 34, 1], edge_index=[2, 1156], edge_attr=[1, 1156, 1], y=[1, 1], con_mat=[1, 34, 34, 1])\n"
     ]
    }
   ],
   "source": [
    "dataset = CandiShareSchizophreniaDataset(\n",
    "    \"right\",\n",
    "    freesurfer_out_path=\"../datasets/candishare_schizophrenia_dktatlas.csv\",\n",
    "    mode=\"train\",\n",
    "    in_view_idx=0,\n",
    "    out_view_idx=2,\n",
    ")\n",
    "dataloader = DataLoader(dataset, batch_size=5)\n",
    "\n",
    "g_source, g_target = next(iter(dataloader))\n",
    "print(g_source)\n",
    "print(g_target)\n",
    "g_source = g_source.to_data_list()[0]\n",
    "g_target = g_target.to_data_list()[0]\n",
    "print(g_source)\n",
    "print(g_target)\n",
    "# plot_graph_adjacency([g_source, g_target], [\"source\", \"target\"])"
   ]
  },
  {
   "cell_type": "code",
   "execution_count": null,
   "metadata": {},
   "outputs": [],
   "source": [
    "# targets_list = []\n",
    "# targets_array = torch.stack(targets_list).mean(dim=0).cpu().numpy()\n",
    "# print(targets_array.mean(), targets_array.std())\n",
    "# np.save(\"./cs_left_tr_target_stats.npy\", targets_array, allow_pickle=False)\n",
    "\n",
    "# ----------------------------------------------------------------------------\n",
    "\n",
    "# from evaluation import FrobeniusDistance\n",
    "# from torch_geometric.data import Data as PygData\n",
    "\n",
    "# target_stat_edges = torch.abs(targets.unsqueeze(1) - targets) / (\n",
    "#     targets.unsqueeze(1) + targets\n",
    "# )\n",
    "# plt.matshow(edges.cpu().detach().numpy())\n",
    "# plt.show()\n",
    "# loss = FrobeniusDistance()\n",
    "# test_dataset = CandiShareSchizophreniaDataset(\n",
    "#     \"left\", \"test\", in_view_idx=0, out_view_idx=2\n",
    "# )\n",
    "# test_dataloader = DataLoader(test_dataset, batch_size=1)\n",
    "# losses = []\n",
    "# avg_graph = PygData(x=targets, edge_attr=target_stat_edges.reshape(1, 34 * 34, 1))\n",
    "# for src, tgt in test_dataloader:\n",
    "#     frob_loss = loss(tgt, avg_graph)\n",
    "#     losses.append(frob_loss)\n",
    "\n",
    "# avg_tst_loss = torch.stack(losses).mean()\n",
    "# print(avg_tst_loss)"
   ]
  }
 ],
 "metadata": {
  "kernelspec": {
   "display_name": ".venv",
   "language": "python",
   "name": "python3"
  },
  "language_info": {
   "codemirror_mode": {
    "name": "ipython",
    "version": 3
   },
   "file_extension": ".py",
   "mimetype": "text/x-python",
   "name": "python",
   "nbconvert_exporter": "python",
   "pygments_lexer": "ipython3",
   "version": "3.10.6"
  }
 },
 "nbformat": 4,
 "nbformat_minor": 2
}
