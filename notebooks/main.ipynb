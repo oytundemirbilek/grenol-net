{
 "cells": [
  {
   "cell_type": "code",
   "execution_count": null,
   "metadata": {},
   "outputs": [],
   "source": [
    "import os\n",
    "import sys\n",
    "\n",
    "sys.path.append(os.path.dirname(os.getcwd()))"
   ]
  },
  {
   "cell_type": "code",
   "execution_count": null,
   "metadata": {},
   "outputs": [],
   "source": [
    "! python -m pip install -e ..\n",
    "! python -m pip install avicortex --upgrade"
   ]
  },
  {
   "cell_type": "code",
   "execution_count": null,
   "metadata": {},
   "outputs": [],
   "source": [
    "from grenolnet.benchmarking import BenchmarkGrenolNet, BenchmarkHADA, BenchmarkMGCNGAN\n",
    "from grenolnet.experiments import Experiment\n",
    "from grenolnet.plotting import plot_results_boxplot\n",
    "from grenolnet.stattests import BaseStatTest"
   ]
  },
  {
   "cell_type": "code",
   "execution_count": null,
   "metadata": {},
   "outputs": [],
   "source": [
    "exp = Experiment(\n",
    "    hemisphere=\"left\",\n",
    "    dataset=\"openneuro\",\n",
    "    timepoint=\"baseline\",\n",
    "    n_epochs=500,\n",
    "    n_folds=5,\n",
    "    batch_size=100,\n",
    "    validation_period=5,\n",
    "    src_feature_idx=2,\n",
    "    tgt_feature_idx=0,\n",
    "    learning_rate=0.001,\n",
    "    loss_name=\"mse\",\n",
    "    diffusion_step_count=100,\n",
    "    diffusion_noise_schedule=\"cosine\",\n",
    "    diffusion_noise_dist=\"uniform\",\n",
    "    diffusion_noise_mean=0.1,\n",
    "    diffusion_noise_std=0.001,\n",
    "    diffusion_noise_max=0.02,\n",
    "    loss_weight=0.5,\n",
    "    conv_size=48,\n",
    "    model_name=\"op_left_500epochs_5folds_notebook\",\n",
    "    random_seed=0,\n",
    ")"
   ]
  },
  {
   "cell_type": "code",
   "execution_count": null,
   "metadata": {},
   "outputs": [],
   "source": [
    "exp.train_model(fold=0)"
   ]
  },
  {
   "cell_type": "code",
   "execution_count": null,
   "metadata": {},
   "outputs": [],
   "source": [
    "exp.run_inference(\n",
    "    mode=\"test\",\n",
    "    load=True,\n",
    "    save_predictions=False,\n",
    "    fold=0,\n",
    ")"
   ]
  },
  {
   "cell_type": "code",
   "execution_count": null,
   "metadata": {},
   "outputs": [],
   "source": [
    "benchmarker = BenchmarkMGCNGAN(\"mgcn-gan\", \"openneuro\", \"left\", cortical_feature=2)\n",
    "print(benchmarker)\n",
    "benchmarker.get_testing_results_all(save=True)\n",
    "benchmarker = BenchmarkGrenolNet(\"dgn-net\", \"openneuro\", \"left\")\n",
    "print(benchmarker)\n",
    "benchmarker.get_testing_results_all(save=True)\n",
    "benchmarker = BenchmarkHADA(\"hada\", \"openneuro\", \"left\", cortical_feature=2)\n",
    "print(benchmarker)\n",
    "benchmarker.get_testing_results_all(save=True)\n",
    "benchmarker = BenchmarkGrenolNet(\"grenol-net\", \"openneuro\", \"left\")\n",
    "print(benchmarker)\n",
    "benchmarker.get_testing_results_all(save=True)"
   ]
  },
  {
   "cell_type": "code",
   "execution_count": null,
   "metadata": {},
   "outputs": [],
   "source": [
    "# plot_results_boxplot(\"../cross-cohort\", size_multiplier=5, hem=\"left\", metric=\"frob\")\n",
    "# plot_results_boxplot(\"../cross-cohort\", size_multiplier=5, hem=\"right\", metric=\"frob\")"
   ]
  },
  {
   "cell_type": "code",
   "execution_count": null,
   "metadata": {},
   "outputs": [],
   "source": [
    "tester = BaseStatTest(dataset=\"openneuro\", hemisphere=\"left\")\n",
    "print(tester)\n",
    "tester.run()"
   ]
  }
 ],
 "metadata": {
  "kernelspec": {
   "display_name": ".venv",
   "language": "python",
   "name": "python3"
  },
  "language_info": {
   "codemirror_mode": {
    "name": "ipython",
    "version": 3
   },
   "file_extension": ".py",
   "mimetype": "text/x-python",
   "name": "python",
   "nbconvert_exporter": "python",
   "pygments_lexer": "ipython3",
   "version": "3.10.6"
  }
 },
 "nbformat": 4,
 "nbformat_minor": 2
}
