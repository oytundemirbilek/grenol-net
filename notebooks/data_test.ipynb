{
 "cells": [
  {
   "cell_type": "code",
   "execution_count": null,
   "metadata": {},
   "outputs": [],
   "source": [
    "import os\n",
    "import sys\n",
    "\n",
    "sys.path.append(os.path.dirname(os.getcwd()))"
   ]
  },
  {
   "cell_type": "code",
   "execution_count": 1,
   "metadata": {},
   "outputs": [],
   "source": [
    "import numpy as np\n",
    "import torch"
   ]
  },
  {
   "cell_type": "code",
   "execution_count": 2,
   "metadata": {},
   "outputs": [],
   "source": [
    "def calculate_edges1(nodes):\n",
    "    return torch.abs(nodes.unsqueeze(1) - nodes).flatten(end_dim=-2)"
   ]
  },
  {
   "cell_type": "code",
   "execution_count": 3,
   "metadata": {},
   "outputs": [],
   "source": [
    "def calculate_edges2(nodes):\n",
    "    n_nodes = nodes.shape[2]\n",
    "    r, c = np.triu_indices(n_nodes, 1)\n",
    "    return np.abs(\n",
    "        nodes[:, :, r] - nodes[:, :, c]\n",
    "    )  # / (nodes[:, :, r] + nodes[:, :, c])"
   ]
  },
  {
   "cell_type": "code",
   "execution_count": 4,
   "metadata": {},
   "outputs": [
    {
     "data": {
      "text/plain": [
       "torch.Size([34, 34, 4])"
      ]
     },
     "execution_count": 4,
     "metadata": {},
     "output_type": "execute_result"
    }
   ],
   "source": [
    "nodes = torch.rand(34, 4)\n",
    "edges = calculate_edges1(nodes).reshape(34, 34, 4)\n",
    "edges.shape"
   ]
  },
  {
   "cell_type": "code",
   "execution_count": 5,
   "metadata": {},
   "outputs": [],
   "source": [
    "def anti_vectorize(vector: np.ndarray, n_nodes: int) -> np.ndarray:\n",
    "    adj_matrix = np.zeros((n_nodes, n_nodes))\n",
    "    adj_matrix[np.tril_indices(n_nodes, k=-1)] = vector\n",
    "    adj_matrix = adj_matrix.transpose()\n",
    "    adj_matrix[np.tril_indices(n_nodes, k=-1)] = vector\n",
    "    return adj_matrix"
   ]
  },
  {
   "cell_type": "code",
   "execution_count": 6,
   "metadata": {},
   "outputs": [],
   "source": [
    "nodes_more = torch.stack([nodes, nodes]).permute(2, 0, 1)\n",
    "edges2 = calculate_edges2(nodes_more)\n",
    "edges_only = edges2[0, 0]\n",
    "antivectorized = anti_vectorize(edges_only, 34)"
   ]
  },
  {
   "cell_type": "code",
   "execution_count": 7,
   "metadata": {},
   "outputs": [
    {
     "data": {
      "text/plain": [
       "array([[0.        , 0.38950217, 0.29722285, ..., 0.3489905 , 0.08027154,\n",
       "        0.13640803],\n",
       "       [0.38950217, 0.        , 0.17587149, ..., 0.83714145, 0.60738117,\n",
       "        0.62455899],\n",
       "       [0.29722285, 0.17587149, 0.        , ..., 0.08748412, 0.63090205,\n",
       "        0.30006659],\n",
       "       ...,\n",
       "       [0.3489905 , 0.83714145, 0.08748412, ..., 0.        , 0.48091918,\n",
       "        0.22871214],\n",
       "       [0.08027154, 0.60738117, 0.63090205, ..., 0.48091918, 0.        ,\n",
       "        0.08262956],\n",
       "       [0.13640803, 0.62455899, 0.30006659, ..., 0.22871214, 0.08262956,\n",
       "        0.        ]])"
      ]
     },
     "execution_count": 7,
     "metadata": {},
     "output_type": "execute_result"
    }
   ],
   "source": [
    "antivectorized"
   ]
  },
  {
   "cell_type": "code",
   "execution_count": 8,
   "metadata": {},
   "outputs": [
    {
     "data": {
      "text/plain": [
       "tensor([[0.0000, 0.3895, 0.2972,  ..., 0.3723, 0.0610, 0.1436],\n",
       "        [0.3895, 0.0000, 0.0923,  ..., 0.7618, 0.4505, 0.5331],\n",
       "        [0.2972, 0.0923, 0.0000,  ..., 0.6695, 0.3582, 0.4408],\n",
       "        ...,\n",
       "        [0.3723, 0.7618, 0.6695,  ..., 0.0000, 0.3113, 0.2287],\n",
       "        [0.0610, 0.4505, 0.3582,  ..., 0.3113, 0.0000, 0.0826],\n",
       "        [0.1436, 0.5331, 0.4408,  ..., 0.2287, 0.0826, 0.0000]])"
      ]
     },
     "execution_count": 8,
     "metadata": {},
     "output_type": "execute_result"
    }
   ],
   "source": [
    "edges[:, :, 0]"
   ]
  },
  {
   "cell_type": "code",
   "execution_count": 9,
   "metadata": {},
   "outputs": [
    {
     "data": {
      "text/plain": [
       "tensor([[8],\n",
       "        [0],\n",
       "        [4]])"
      ]
     },
     "execution_count": 9,
     "metadata": {},
     "output_type": "execute_result"
    }
   ],
   "source": [
    "nodes_easy = torch.randint(low=0, high=10, size=(3, 1))\n",
    "nodes_easy"
   ]
  },
  {
   "cell_type": "code",
   "execution_count": 10,
   "metadata": {},
   "outputs": [
    {
     "name": "stdout",
     "output_type": "stream",
     "text": [
      "14.5 µs ± 3.82 µs per loop (mean ± std. dev. of 7 runs, 10,000 loops each)\n"
     ]
    }
   ],
   "source": [
    "%timeit calculate_edges1(nodes_easy).reshape(3,3)"
   ]
  },
  {
   "cell_type": "code",
   "execution_count": 11,
   "metadata": {},
   "outputs": [],
   "source": [
    "nodes_easy_more = torch.stack([nodes_easy, nodes_easy]).permute(2, 0, 1)\n",
    "easy_edges2 = calculate_edges2(nodes_easy_more)\n",
    "easy_edges2_only = easy_edges2[0, 0]\n",
    "antivectorized = anti_vectorize(easy_edges2_only, 3)"
   ]
  },
  {
   "cell_type": "code",
   "execution_count": 12,
   "metadata": {},
   "outputs": [
    {
     "data": {
      "text/plain": [
       "array([[0., 8., 4.],\n",
       "       [8., 0., 4.],\n",
       "       [4., 4., 0.]])"
      ]
     },
     "execution_count": 12,
     "metadata": {},
     "output_type": "execute_result"
    }
   ],
   "source": [
    "antivectorized"
   ]
  },
  {
   "cell_type": "code",
   "execution_count": 13,
   "metadata": {},
   "outputs": [],
   "source": [
    "def calculate_adj(out, n_nodes):\n",
    "    return torch.sum(\n",
    "        torch.abs(\n",
    "            out.repeat(n_nodes, 1, 1) - torch.transpose(out.repeat(n_nodes, 1, 1), 0, 1)\n",
    "        ),\n",
    "        2,\n",
    "    )"
   ]
  },
  {
   "cell_type": "code",
   "execution_count": 14,
   "metadata": {},
   "outputs": [],
   "source": [
    "def calculate_edges1_np(nodes, dim=1):\n",
    "    return np.absolute(np.expand_dims(nodes, dim) - nodes)"
   ]
  },
  {
   "cell_type": "code",
   "execution_count": 15,
   "metadata": {},
   "outputs": [
    {
     "data": {
      "text/plain": [
       "tensor([[0, 8, 4],\n",
       "        [8, 0, 4],\n",
       "        [4, 4, 0]])"
      ]
     },
     "execution_count": 15,
     "metadata": {},
     "output_type": "execute_result"
    }
   ],
   "source": [
    "torch.from_numpy(calculate_edges1_np(nodes_easy.numpy())).squeeze()"
   ]
  },
  {
   "cell_type": "code",
   "execution_count": 16,
   "metadata": {},
   "outputs": [
    {
     "data": {
      "text/plain": [
       "torch.Size([3, 1])"
      ]
     },
     "execution_count": 16,
     "metadata": {},
     "output_type": "execute_result"
    }
   ],
   "source": [
    "nodes_easy.shape"
   ]
  },
  {
   "cell_type": "code",
   "execution_count": 17,
   "metadata": {},
   "outputs": [],
   "source": [
    "nodes_complex = torch.randint(low=0, high=10, size=(1, 2, 5, 3))"
   ]
  },
  {
   "cell_type": "code",
   "execution_count": 18,
   "metadata": {},
   "outputs": [],
   "source": [
    "pairwise = torch.from_numpy(\n",
    "    calculate_edges1_np(nodes_complex.permute(0, 3, 1, 2).numpy(), dim=2)\n",
    ")"
   ]
  },
  {
   "cell_type": "code",
   "execution_count": 19,
   "metadata": {},
   "outputs": [
    {
     "data": {
      "text/plain": [
       "tensor([8, 1, 2])"
      ]
     },
     "execution_count": 19,
     "metadata": {},
     "output_type": "execute_result"
    }
   ],
   "source": [
    "nodes_complex[0, 0, 0]"
   ]
  },
  {
   "cell_type": "code",
   "execution_count": 20,
   "metadata": {},
   "outputs": [
    {
     "data": {
      "text/plain": [
       "tensor([[0, 7, 6],\n",
       "        [7, 0, 1],\n",
       "        [6, 1, 0]])"
      ]
     },
     "execution_count": 20,
     "metadata": {},
     "output_type": "execute_result"
    }
   ],
   "source": [
    "pairwise[0, :, :, 0, 0]"
   ]
  },
  {
   "cell_type": "code",
   "execution_count": 21,
   "metadata": {},
   "outputs": [
    {
     "name": "stdout",
     "output_type": "stream",
     "text": [
      "41.4 µs ± 5.57 µs per loop (mean ± std. dev. of 7 runs, 10,000 loops each)\n"
     ]
    }
   ],
   "source": [
    "%timeit calculate_adj(nodes_easy, 3)"
   ]
  }
 ],
 "metadata": {
  "kernelspec": {
   "display_name": "Python 3",
   "language": "python",
   "name": "python3"
  },
  "language_info": {
   "codemirror_mode": {
    "name": "ipython",
    "version": 3
   },
   "file_extension": ".py",
   "mimetype": "text/x-python",
   "name": "python",
   "nbconvert_exporter": "python",
   "pygments_lexer": "ipython3",
   "version": "3.10.6"
  }
 },
 "nbformat": 4,
 "nbformat_minor": 2
}
